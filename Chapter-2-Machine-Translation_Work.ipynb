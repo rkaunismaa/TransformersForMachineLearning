{
 "cells": [
  {
   "attachments": {},
   "cell_type": "markdown",
   "metadata": {},
   "source": [
    "Wednesday, June 21, 2023\n",
    "\n",
    "My walkthrough of the notebook ...\n",
    "\n",
    "[Chapter-2-Machine-Translation.ipynb](https://github.com/CRCTransformers/deepdive-book/blob/main/Chapter-2-Machine-Translation.ipynb)\n",
    "\n"
   ]
  },
  {
   "attachments": {},
   "cell_type": "markdown",
   "metadata": {},
   "source": [
    "### Machine Translation Comparison: Attention vs Transformer"
   ]
  },
  {
   "cell_type": "code",
   "execution_count": 1,
   "metadata": {},
   "outputs": [],
   "source": [
    "import time\n",
    "from datetime import date\n",
    "\n",
    "startTime = time.time()\n",
    "todaysDate = date.today()"
   ]
  },
  {
   "attachments": {},
   "cell_type": "markdown",
   "metadata": {},
   "source": [
    "Why do I always have so many issues with spacy??"
   ]
  },
  {
   "attachments": {},
   "cell_type": "markdown",
   "metadata": {},
   "source": [
    "!python -m spacy download fr  ... this NEVER works!"
   ]
  },
  {
   "cell_type": "code",
   "execution_count": 2,
   "metadata": {},
   "outputs": [],
   "source": [
    "import spacy\n",
    "import spacy.cli"
   ]
  },
  {
   "cell_type": "code",
   "execution_count": 3,
   "metadata": {},
   "outputs": [],
   "source": [
    "spacyDownload = False\n",
    "if spacyDownload:\n",
    "    spacy.cli.download(\"en_core_web_sm\")\n",
    "    spacy.cli.download(\"fr_core_news_sm\")"
   ]
  },
  {
   "cell_type": "code",
   "execution_count": 4,
   "metadata": {},
   "outputs": [],
   "source": [
    "# !pip install ecco\n",
    "# !pip install torchtext\n",
    "# !pip install wget\n",
    "\n",
    "# this would not work ... had to run outside of this container ...sigh\n",
    "# %%capture\n",
    "# !wget https://download.pytorch.org/tutorial/data.zip && unzip data.zip && rm data.zip"
   ]
  },
  {
   "cell_type": "code",
   "execution_count": 5,
   "metadata": {},
   "outputs": [],
   "source": [
    "from io import open\n",
    "import unicodedata\n",
    "import string\n",
    "import re\n",
    "import random\n",
    "import os\n",
    "\n",
    "import torch\n",
    "from torch import nn\n",
    "import torch.nn.functional as F\n",
    "from torch.nn.utils.rnn import pad_sequence\n",
    "from torch.utils.data import DataLoader\n",
    "\n",
    "from torchtext.data.utils import get_tokenizer\n",
    "from torchtext.vocab import Vocab, build_vocab_from_iterator\n",
    "from collections import Counter \n",
    "\n",
    "from tqdm.notebook import tqdm\n",
    "import numpy as np\n",
    "import pandas as pd\n",
    "import matplotlib.pyplot as plt\n",
    "from matplotlib import ticker\n",
    "import ecco\n",
    "     "
   ]
  },
  {
   "cell_type": "code",
   "execution_count": 6,
   "metadata": {},
   "outputs": [
    {
     "data": {
      "text/plain": [
       "'2.0.1+cu118'"
      ]
     },
     "execution_count": 6,
     "metadata": {},
     "output_type": "execute_result"
    }
   ],
   "source": [
    "torch.__version__"
   ]
  },
  {
   "cell_type": "code",
   "execution_count": 7,
   "metadata": {},
   "outputs": [],
   "source": [
    "MAX_SENTENCE_LENGTH = 20\n",
    "FILTER_TO_BASIC_PREFIXES = False\n",
    "SAVE_DIR = os.path.join(\".\", \"models\")\n",
    "\n",
    "ENCODER_EMBEDDING_DIM = 256\n",
    "ENCODER_HIDDEN_SIZE = 256\n",
    "DECODER_EMBEDDING_DIM = 256\n",
    "DECODER_HIDDEN_SIZE = 256"
   ]
  },
  {
   "cell_type": "code",
   "execution_count": 8,
   "metadata": {},
   "outputs": [
    {
     "name": "stdout",
     "output_type": "stream",
     "text": [
      "Tue Jun 27 15:50:42 2023       \n",
      "+-----------------------------------------------------------------------------+\n",
      "| NVIDIA-SMI 520.61.05    Driver Version: 520.61.05    CUDA Version: 11.8     |\n",
      "|-------------------------------+----------------------+----------------------+\n",
      "| GPU  Name        Persistence-M| Bus-Id        Disp.A | Volatile Uncorr. ECC |\n",
      "| Fan  Temp  Perf  Pwr:Usage/Cap|         Memory-Usage | GPU-Util  Compute M. |\n",
      "|                               |                      |               MIG M. |\n",
      "|===============================+======================+======================|\n",
      "|   0  NVIDIA GeForce ...  On   | 00000000:01:00.0  On |                  N/A |\n",
      "|  0%   59C    P0    N/A /  70W |    359MiB /  2048MiB |      8%      Default |\n",
      "|                               |                      |                  N/A |\n",
      "+-------------------------------+----------------------+----------------------+\n",
      "|   1  NVIDIA GeForce ...  On   | 00000000:02:00.0 Off |                  N/A |\n",
      "| 24%   29C    P8     4W / 215W |      8MiB /  8192MiB |      0%      Default |\n",
      "|                               |                      |                  N/A |\n",
      "+-------------------------------+----------------------+----------------------+\n",
      "                                                                               \n",
      "+-----------------------------------------------------------------------------+\n",
      "| Processes:                                                                  |\n",
      "|  GPU   GI   CI        PID   Type   Process name                  GPU Memory |\n",
      "|        ID   ID                                                   Usage      |\n",
      "|=============================================================================|\n",
      "+-----------------------------------------------------------------------------+\n"
     ]
    },
    {
     "data": {
      "text/plain": [
       "device(type='cuda')"
      ]
     },
     "execution_count": 8,
     "metadata": {},
     "output_type": "execute_result"
    }
   ],
   "source": [
    "if torch.cuda.is_available():\n",
    "    device = torch.device(\"cuda\")\n",
    "    !nvidia-smi\n",
    "else:\n",
    "    device = torch.device(\"cpu\")\n",
    "device"
   ]
  },
  {
   "cell_type": "code",
   "execution_count": 9,
   "metadata": {},
   "outputs": [],
   "source": [
    "with open('data/eng-fra.txt', encoding=\"utf-8\") as f:\n",
    "    lines = f.read().strip().split(\"\\n\")"
   ]
  },
  {
   "cell_type": "code",
   "execution_count": 10,
   "metadata": {},
   "outputs": [
    {
     "name": "stdout",
     "output_type": "stream",
     "text": [
      "135,842 English-French phrase pairs.\n",
      "\n",
      "~~~~~ Examples: ~~~~~\n",
      "English:  She was absorbed in her work.\n",
      "French:   Elle était absorbée par son travail.\n",
      "\n",
      "English:  I just wanted to drop by to say hi.\n",
      "French:   Je voulais juste passer pour vous saluer.\n",
      "\n",
      "English:  I'd like some water.\n",
      "French:   Je voudrais un peu d'eau.\n",
      "\n",
      "English:  When I woke up this morning, I felt sick.\n",
      "French:   Lorsque je me suis réveillée ce matin, je me sentais malade.\n",
      "\n",
      "English:  Why are you so insecure?\n",
      "French:   Pourquoi êtes-vous si anxieux ?\n",
      "\n"
     ]
    }
   ],
   "source": [
    "print(f\"{len(lines):,} English-French phrase pairs.\\n\")\n",
    "print(\"~~~~~ Examples: ~~~~~\")\n",
    "for example in random.choices(lines, k=5):\n",
    "    pair = example.split('\\t')\n",
    "    print(f\"English:  {pair[0]}\")\n",
    "    print(f\"French:   {pair[1]}\")\n",
    "    print()"
   ]
  },
  {
   "cell_type": "code",
   "execution_count": 11,
   "metadata": {},
   "outputs": [],
   "source": [
    "def unicodeToAscii(s):\n",
    "    return ''.join(\n",
    "      c for c in unicodedata.normalize('NFD', s) \n",
    "      if unicodedata.category(c) != 'Mn'\n",
    "    )"
   ]
  },
  {
   "cell_type": "code",
   "execution_count": 12,
   "metadata": {},
   "outputs": [],
   "source": [
    "def normalizeString(s):\n",
    "    s = unicodeToAscii(s.lower().strip())\n",
    "    s = re.sub(r\"[^a-zA-Z.!?]+\", \" \", s)\n",
    "    return s"
   ]
  },
  {
   "cell_type": "code",
   "execution_count": 13,
   "metadata": {},
   "outputs": [],
   "source": [
    "def filterPair(p, max_length, prefixes):\n",
    "    good_length = (len(p[0].split(' ')) < max_length) and (len(p[1].split(' ')) < max_length)\n",
    "    if len(prefixes) == 0:\n",
    "        return good_length\n",
    "    else:\n",
    "        return good_length and p[0].startswith(prefixes)"
   ]
  },
  {
   "cell_type": "code",
   "execution_count": 14,
   "metadata": {},
   "outputs": [],
   "source": [
    "def filterPairs(pairs, max_length, prefixes=()):\n",
    "    return [pair for pair in pairs if filterPair(pair, max_length, prefixes)]"
   ]
  },
  {
   "cell_type": "code",
   "execution_count": 15,
   "metadata": {},
   "outputs": [],
   "source": [
    "def prepareData(lines, filter=False, reverse=False, max_length=10, prefixes=()):\n",
    "    pairs = [[normalizeString(s) for s in l.split('\\t')] for l in lines]\n",
    "\n",
    "    print(f\"Given {len(pairs):,} sentence pairs.\")\n",
    "\n",
    "    if filter:\n",
    "        pairs = filterPairs(pairs, max_length=max_length, prefixes=prefixes)\n",
    "        print(f\"After filtering, {len(pairs):,} remain.\")\n",
    "\n",
    "    return pairs"
   ]
  },
  {
   "cell_type": "code",
   "execution_count": 16,
   "metadata": {},
   "outputs": [],
   "source": [
    "basic_prefixes = (\n",
    "    \"i am \", \"i m \",\n",
    "    \"he is\", \"he s \",\n",
    "    \"she is\", \"she s \",\n",
    "    \"you are\", \"you re \",\n",
    "    \"we are\", \"we re \",\n",
    "    \"they are\", \"they re \",\n",
    "    'are you', 'am i ', \n",
    "    'were you', 'was i ', \n",
    "    'where are', 'where is',\n",
    "    'what is', 'what are'\n",
    ")"
   ]
  },
  {
   "cell_type": "code",
   "execution_count": 17,
   "metadata": {},
   "outputs": [
    {
     "name": "stdout",
     "output_type": "stream",
     "text": [
      "Given 135,842 sentence pairs.\n",
      "After filtering, 135,284 remain.\n"
     ]
    }
   ],
   "source": [
    "pairs = prepareData(lines, \n",
    "                    filter=True, \n",
    "                    max_length=MAX_SENTENCE_LENGTH, \n",
    "                    prefixes=basic_prefixes if FILTER_TO_BASIC_PREFIXES else ())"
   ]
  },
  {
   "attachments": {},
   "cell_type": "markdown",
   "metadata": {},
   "source": [
    "The notebook from the authors repo shows 15, 593 remaining. Why do we get 135,284?\n",
    "\n",
    "Let's try to explore this, shall we ... "
   ]
  },
  {
   "cell_type": "code",
   "execution_count": 18,
   "metadata": {},
   "outputs": [],
   "source": [
    "pairs2 = [[normalizeString(s) for s in l.split('\\t')] for l in lines]"
   ]
  },
  {
   "cell_type": "code",
   "execution_count": 19,
   "metadata": {},
   "outputs": [
    {
     "data": {
      "text/plain": [
       "15593"
      ]
     },
     "execution_count": 19,
     "metadata": {},
     "output_type": "execute_result"
    }
   ],
   "source": [
    "filteredPairs = filterPairs(pairs2, max_length=20, prefixes=basic_prefixes)\n",
    "len(filteredPairs)"
   ]
  },
  {
   "cell_type": "code",
   "execution_count": 20,
   "metadata": {},
   "outputs": [
    {
     "data": {
      "text/plain": [
       "135284"
      ]
     },
     "execution_count": 20,
     "metadata": {},
     "output_type": "execute_result"
    }
   ],
   "source": [
    "filteredPairs = filterPairs(pairs2, max_length=20, prefixes=())\n",
    "len(filteredPairs)"
   ]
  },
  {
   "cell_type": "code",
   "execution_count": 21,
   "metadata": {},
   "outputs": [
    {
     "data": {
      "text/plain": [
       "[['go.', 'va !'],\n",
       " ['run!', 'cours !'],\n",
       " ['run!', 'courez !'],\n",
       " ['wow!', 'ca alors !'],\n",
       " ['fire!', 'au feu !'],\n",
       " ['help!', 'a l aide !'],\n",
       " ['jump.', 'saute.'],\n",
       " ['stop!', 'ca suffit !'],\n",
       " ['stop!', 'stop !'],\n",
       " ['stop!', 'arrete toi !']]"
      ]
     },
     "execution_count": 21,
     "metadata": {},
     "output_type": "execute_result"
    }
   ],
   "source": [
    "pairs2[:10]"
   ]
  },
  {
   "attachments": {},
   "cell_type": "markdown",
   "metadata": {},
   "source": [
    "### Prepare the data for modelling"
   ]
  },
  {
   "cell_type": "code",
   "execution_count": 22,
   "metadata": {},
   "outputs": [],
   "source": [
    "# fr_tokenizer = get_tokenizer('spacy', language='fr')\n",
    "# en_tokenizer = get_tokenizer('spacy', language='en')\n",
    "fr_tokenizer = get_tokenizer('spacy', language='fr_core_news_sm')\n",
    "en_tokenizer = get_tokenizer('spacy', language='en_core_web_sm')"
   ]
  },
  {
   "cell_type": "code",
   "execution_count": 23,
   "metadata": {},
   "outputs": [],
   "source": [
    "SPECIALS = ['<unk>', '<pad>', '<bos>', '<eos>']"
   ]
  },
  {
   "cell_type": "code",
   "execution_count": 24,
   "metadata": {},
   "outputs": [],
   "source": [
    "en_list = []\n",
    "fr_list = []\n",
    "en_counter = Counter()\n",
    "fr_counter = Counter()\n",
    "en_lengths = []\n",
    "fr_lengths = []"
   ]
  },
  {
   "cell_type": "code",
   "execution_count": 25,
   "metadata": {},
   "outputs": [],
   "source": [
    "for en, fr in pairs:\n",
    "    en_toks = en_tokenizer(en)\n",
    "    fr_toks = fr_tokenizer(fr)\n",
    "    en_list += [en_toks]\n",
    "    fr_list += [fr_toks]\n",
    "    en_counter.update(en_toks)\n",
    "    fr_counter.update(fr_toks)\n",
    "    en_lengths.append(len(en_toks))\n",
    "    fr_lengths.append(len(fr_toks))"
   ]
  },
  {
   "cell_type": "code",
   "execution_count": 26,
   "metadata": {},
   "outputs": [
    {
     "data": {
      "text/plain": [
       "[['go', '.'],\n",
       " ['run', '!'],\n",
       " ['run', '!'],\n",
       " ['wow', '!'],\n",
       " ['fire', '!'],\n",
       " ['help', '!'],\n",
       " ['jump', '.'],\n",
       " ['stop', '!'],\n",
       " ['stop', '!'],\n",
       " ['stop', '!']]"
      ]
     },
     "execution_count": 26,
     "metadata": {},
     "output_type": "execute_result"
    }
   ],
   "source": [
    "en_list[:10]"
   ]
  },
  {
   "cell_type": "code",
   "execution_count": 27,
   "metadata": {},
   "outputs": [],
   "source": [
    "en_vocab = build_vocab_from_iterator(en_list, specials=SPECIALS)\n",
    "fr_vocab = build_vocab_from_iterator(fr_list, specials=SPECIALS)"
   ]
  },
  {
   "cell_type": "code",
   "execution_count": 28,
   "metadata": {},
   "outputs": [
    {
     "data": {
      "image/png": "[encoded data removed]",
      "text/plain": [
       "<Figure size 800x600 with 2 Axes>"
      ]
     },
     "metadata": {},
     "output_type": "display_data"
    }
   ],
   "source": [
    "fig = plt.figure(figsize=(8, 6))\n",
    "ax0 = fig.add_subplot(211)\n",
    "ax0.hist(en_lengths, rwidth=0.8, color='gray')\n",
    "ax0.set_title(\"English Sentence Length\")\n",
    "ax0.set_xlabel(\"# Tokens in Sentence\")\n",
    "\n",
    "ax1 = fig.add_subplot(212)\n",
    "ax1.hist(fr_lengths, rwidth=0.8, color='gray')\n",
    "ax1.set_title(\"French Sentence Length\")\n",
    "ax1.set_xlabel(\"# Tokens in Sentence\")\n",
    "\n",
    "plt.tight_layout()\n",
    "plt.show()"
   ]
  },
  {
   "cell_type": "code",
   "execution_count": 29,
   "metadata": {},
   "outputs": [
    {
     "data": {
      "image/png": "[encoded data removed]",
      "text/plain": [
       "<Figure size 800x600 with 2 Axes>"
      ]
     },
     "metadata": {},
     "output_type": "display_data"
    }
   ],
   "source": [
    "\n",
    "plt.figure(figsize=(8,6))\n",
    "plt.hist2d(en_lengths, fr_lengths, bins=MAX_SENTENCE_LENGTH-2, cmap='binary')\n",
    "plt.title(\"Joint Distribution of Sentence Lengths\", fontsize=14)\n",
    "plt.xlabel(\"# English Tokens\")\n",
    "plt.ylabel(\"# French Tokens\")\n",
    "plt.colorbar()\n",
    "plt.show()"
   ]
  },
  {
   "cell_type": "code",
   "execution_count": 30,
   "metadata": {},
   "outputs": [],
   "source": [
    "def plot_top_words(counter, k=20, ax=None):\n",
    "    top_k = counter.most_common(k)\n",
    "    words, freqs = zip(*reversed(top_k))\n",
    "\n",
    "    if ax is None:\n",
    "        plt.barh(words, freqs, color='gray')\n",
    "    else:\n",
    "        ax.barh(words, freqs, color='gray')\n"
   ]
  },
  {
   "cell_type": "code",
   "execution_count": 31,
   "metadata": {},
   "outputs": [
    {
     "data": {
      "image/png": "[encoded data removed]",
      "text/plain": [
       "<Figure size 1200x600 with 2 Axes>"
      ]
     },
     "metadata": {},
     "output_type": "display_data"
    }
   ],
   "source": [
    "\n",
    "fig = plt.figure(figsize=(12, 6))\n",
    "ax0 = fig.add_subplot(121)\n",
    "plot_top_words(en_counter, ax=ax0)\n",
    "ax0.set_title(\"Top 20 English Words\")\n",
    "ax0.set_xlabel(\"Raw Frequency\")\n",
    "\n",
    "ax1 = fig.add_subplot(122)\n",
    "plot_top_words(fr_counter, ax=ax1)\n",
    "ax1.set_title(\"Top 20 French Words\")\n",
    "ax1.set_xlabel(\"Raw Frequency\")\n",
    "\n",
    "plt.tight_layout()\n",
    "plt.show()"
   ]
  },
  {
   "cell_type": "code",
   "execution_count": 32,
   "metadata": {},
   "outputs": [],
   "source": [
    "VALID_PCT = 0.1\n",
    "TEST_PCT = 0.1\n",
    "\n",
    "train_data  = []\n",
    "valid_data = []\n",
    "test_data = []\n",
    "\n",
    "random.seed(6547)"
   ]
  },
  {
   "cell_type": "code",
   "execution_count": 33,
   "metadata": {},
   "outputs": [],
   "source": [
    "for (en, fr) in pairs:\n",
    "\n",
    "    en_tensor = torch.tensor([en_vocab[token] for token in en_tokenizer(en)])\n",
    "    fr_tensor = torch.tensor([fr_vocab[token] for token in fr_tokenizer(fr)])\n",
    "\n",
    "    random_draw = random.random()\n",
    "\n",
    "    if random_draw <= VALID_PCT:\n",
    "        valid_data.append((en_tensor, fr_tensor))\n",
    "    elif random_draw <= VALID_PCT + TEST_PCT:\n",
    "        test_data.append((en_tensor, fr_tensor))\n",
    "    else:\n",
    "        train_data.append((en_tensor, fr_tensor))"
   ]
  },
  {
   "cell_type": "code",
   "execution_count": 34,
   "metadata": {},
   "outputs": [
    {
     "name": "stdout",
     "output_type": "stream",
     "text": [
      "\n",
      "  Training pairs: 108,111\n",
      "Validation pairs: 13,648\n",
      "      Test pairs: 13,525\n"
     ]
    }
   ],
   "source": [
    "print(f\"\"\"\n",
    "  Training pairs: {len(train_data):,}\n",
    "Validation pairs: {len(valid_data):,}\n",
    "      Test pairs: {len(test_data):,}\"\"\")\n",
    "     "
   ]
  },
  {
   "cell_type": "code",
   "execution_count": 35,
   "metadata": {},
   "outputs": [],
   "source": [
    "PAD_IDX = en_vocab['<pad>']\n",
    "BOS_IDX = en_vocab['<bos>']\n",
    "EOS_IDX = en_vocab['<eos>']"
   ]
  },
  {
   "cell_type": "code",
   "execution_count": 36,
   "metadata": {},
   "outputs": [],
   "source": [
    "for en_id, fr_id in zip(en_vocab.lookup_indices(SPECIALS), fr_vocab.lookup_indices(SPECIALS)):\n",
    "    assert en_id == fr_id"
   ]
  },
  {
   "cell_type": "code",
   "execution_count": 37,
   "metadata": {},
   "outputs": [],
   "source": [
    "def generate_batch(data_batch):\n",
    "    '''\n",
    "    Prepare English and French examples for batch-friendly modeling by appending\n",
    "    BOS/EOS tokens to each, stacking the tensors, and filling trailing spaces of\n",
    "    shorter sentences with the <pad> token. To be used as the collate_fn in the\n",
    "    English-to-French DataLoader.\n",
    "\n",
    "    Input: \n",
    "    - data_batch, an iterable of (English, French) tuples from the datasets \n",
    "    created above\n",
    "\n",
    "    Outputs\n",
    "    - en_batch: a (max length X batch size) tensor of English token IDs\n",
    "    - fr_batch: a (max length X batch size) tensor of French token IDs \n",
    "    '''\n",
    "    en_batch, fr_batch = [], []\n",
    "    for (en_item, fr_item) in data_batch:\n",
    "        en_batch.append(torch.cat([torch.tensor([BOS_IDX]), en_item, torch.tensor([EOS_IDX])], dim=0))\n",
    "        fr_batch.append(torch.cat([torch.tensor([BOS_IDX]), fr_item, torch.tensor([EOS_IDX])], dim=0))\n",
    "\n",
    "    en_batch = pad_sequence(en_batch, padding_value=PAD_IDX, batch_first=False)\n",
    "    fr_batch = pad_sequence(fr_batch, padding_value=PAD_IDX, batch_first=False)\n",
    "\n",
    "    return en_batch, fr_batch"
   ]
  },
  {
   "cell_type": "code",
   "execution_count": 38,
   "metadata": {},
   "outputs": [],
   "source": [
    "BATCH_SIZE = 16 # I know this works, but let's increase shall we ... \n",
    "BATCH_SIZE = 256 # Nice! This too also works ... keep going ...\n",
    "BATCH_SIZE = 512\n",
    "# BATCH_SIZE = 1024 # Nope! This Blows up!\n",
    "\n",
    "train_iter = DataLoader(train_data, batch_size=BATCH_SIZE, shuffle=True, collate_fn=generate_batch)\n",
    "valid_iter = DataLoader(valid_data, batch_size=BATCH_SIZE, shuffle=False, collate_fn=generate_batch)\n",
    "test_iter = DataLoader(test_data, batch_size=BATCH_SIZE, shuffle=False, collate_fn=generate_batch)"
   ]
  },
  {
   "cell_type": "code",
   "execution_count": 39,
   "metadata": {},
   "outputs": [
    {
     "name": "stdout",
     "output_type": "stream",
     "text": [
      "English: <bos> the doors were closed . <eos> <pad> <pad> <pad> <pad> <pad> <pad> <pad> <pad> <pad> <pad> <pad>\n",
      "French: <bos> les portes etaient closes . <eos> <pad> <pad> <pad> <pad> <pad> <pad> <pad> <pad> <pad> <pad> <pad> <pad> <pad> <pad>\n",
      "\n",
      "English: <bos> don t worry about what i did . <eos> <pad> <pad> <pad> <pad> <pad> <pad> <pad> <pad> <pad>\n",
      "French: <bos> ne te fais pas de souci au sujet de ce que j ai fait ! <eos> <pad> <pad> <pad>\n",
      "\n",
      "English: <bos> do you know noah s ark ? <eos> <pad> <pad> <pad> <pad> <pad> <pad> <pad> <pad> <pad> <pad> <pad>\n",
      "French: <bos> connais tu l arche de noe ? <eos> <pad> <pad> <pad> <pad> <pad> <pad> <pad> <pad> <pad> <pad> <pad> <pad> <pad>\n",
      "\n",
      "English: <bos> i just don t want to believe it . <eos> <pad> <pad> <pad> <pad> <pad> <pad> <pad> <pad>\n",
      "French: <bos> je ne veux tout simplement pas y croire . <eos> <pad> <pad> <pad> <pad> <pad> <pad> <pad> <pad> <pad> <pad>\n",
      "\n",
      "English: <bos> how did you come up with that answer ? <eos> <pad> <pad> <pad> <pad> <pad> <pad> <pad> <pad>\n",
      "French: <bos> comment etes vous parvenues a cette reponse ? <eos> <pad> <pad> <pad> <pad> <pad> <pad> <pad> <pad> <pad> <pad> <pad> <pad>\n"
     ]
    }
   ],
   "source": [
    "for i, (en_id, fr_id) in enumerate(train_iter):\n",
    "    print('English:', ' '.join([en_vocab.lookup_token(idx) for idx in en_id[:, 0]]))\n",
    "    print('French:', ' '.join([fr_vocab.lookup_token(idx) for idx in fr_id[:, 0]]))\n",
    "    if i == 4: \n",
    "        break\n",
    "    else:\n",
    "        print()"
   ]
  },
  {
   "attachments": {},
   "cell_type": "markdown",
   "metadata": {},
   "source": [
    "## LSTM with Attention"
   ]
  },
  {
   "attachments": {},
   "cell_type": "markdown",
   "metadata": {},
   "source": [
    "### Model Classes"
   ]
  },
  {
   "cell_type": "code",
   "execution_count": 40,
   "metadata": {},
   "outputs": [],
   "source": [
    "class BahdanauEncoder(nn.Module):\n",
    "\n",
    "    def __init__(self, input_dim, embedding_dim, encoder_hidden_dim, decoder_hidden_dim, dropout_p):\n",
    "\n",
    "        super().__init__()\n",
    "        self.intput_dim = input_dim\n",
    "        self.embedding_dim = embedding_dim\n",
    "        self.encoder_hidden_dim = encoder_hidden_dim\n",
    "        self.decoder_hidden_dim = decoder_hidden_dim\n",
    "        self.dropout_p = dropout_p\n",
    "\n",
    "        self.embedding = nn.Embedding(input_dim, embedding_dim)\n",
    "        self.gru = nn.GRU(embedding_dim, encoder_hidden_dim, bidirectional=True)\n",
    "        self.linear = nn.Linear(encoder_hidden_dim *2, decoder_hidden_dim)\n",
    "        self.dropout = nn.Dropout(dropout_p)\n",
    "\n",
    "    def forward(self, x):\n",
    "        '''\n",
    "        Encode a source sentence. \n",
    "\n",
    "        Input:\n",
    "          - x: a (sequence length, batch size) tensor of token IDs in source language\n",
    "\n",
    "        Output:\n",
    "          - outputs: encoder outputs at each time step, given as a tensor of size\n",
    "            (sequence length, batch size, encoder hidden dim * 2)\n",
    "          - hidden: final hidden state from RNN, with directions concatenated and\n",
    "            fed through linear layer; tensor of size (batch size, decoder hidden dim)\n",
    "        '''\n",
    "\n",
    "        embedded = self.dropout(self.embedding(x))\n",
    "        outputs, hidden = self.gru(embedded)\n",
    "\n",
    "        hidden = torch.tanh(self.linear(torch.cat( ( hidden[-2, :, :], hidden[-1, :, :]) , dim=1 )))\n",
    "\n",
    "        return outputs, hidden\n"
   ]
  },
  {
   "cell_type": "code",
   "execution_count": 41,
   "metadata": {},
   "outputs": [],
   "source": [
    "class BahdanauAttentionQKV(nn.Module):\n",
    "\n",
    "    def __init__(self, hidden_size, query_size=None, key_size = None, droput_p = 0.15):\n",
    "        super().__init__()\n",
    "        self.hidden_size = hidden_size\n",
    "        self.query_size = hidden_size if query_size is None else query_size\n",
    "        \n",
    "        # assume a bidirectional encoder, but can specify otherwise\n",
    "        self.key_size = 2 * hidden_size if key_size is None else key_size\n",
    "\n",
    "        self.query_layer = nn.Linear(self.query_size, hidden_size)\n",
    "        self.key_layer = nn.Linear(self.key_size, hidden_size)\n",
    "        self.energy_layer = nn.Linear(hidden_size, 1)\n",
    "        self.dropout = nn.Dropout(droput_p)\n",
    "\n",
    "    def forward(self, hidden, encoder_outputs, src_mask=None):\n",
    "        '''\n",
    "        Calculate attention weights using query and key features, with\n",
    "        an optional mask for input sequences.\n",
    "        \n",
    "        Inputs:\n",
    "          - hidden: most recent RNN hidden state; (B, Dec)\n",
    "          - encoder_outputs: RNN outputs at individual time steps with \n",
    "            directions concatenated; (L, B, 2*Enc)\n",
    "          - src_mask: boolean tensor of same size as source tokens (Src, B) \n",
    "            where False denotes tokens to be ignored\n",
    "            \n",
    "        Outputs:\n",
    "          - attention weights: (B, src) tensor of softmax attention \n",
    "            weights to be applied to downstream values\n",
    "        '''\n",
    "\n",
    "        # (B, H)\n",
    "        query_out = self.query_layer(hidden)\n",
    "\n",
    "        # (Src, B, 2*H) --> (Src, B, H)\n",
    "        key_out = self.key_layer(encoder_outputs)\n",
    "\n",
    "        # (B, H) + (Src, B, H) --> (Src, B)\n",
    "        energy_input = torch.tanh(query_out + key_out)\n",
    "\n",
    "        # (Src, B, H) --> (Src, B, 1) --> (Src, B)\n",
    "        energies = self.energy_layer(energy_input).squeeze(2)\n",
    "\n",
    "        # if a mask is provided, remove masked tokens from softmax calc\n",
    "        if src_mask is not None:\n",
    "            energies.data.masked_fill_(src_mask == 0, float(\"-inf\"))\n",
    "\n",
    "        # softmax over the length dimension\n",
    "        weights =  F.softmax(energies, dim=0)\n",
    "\n",
    "        # return as (B, Src) as expected by later multiplication\n",
    "        return weights.transpose(0, 1)\n"
   ]
  },
  {
   "cell_type": "code",
   "execution_count": 42,
   "metadata": {},
   "outputs": [],
   "source": [
    "class BahdanauDecoder(nn.Module):\n",
    "    def __init__(self, output_dim, embedding_dim, encoder_hidden_dim, \n",
    "                 decoder_hidden_dim, attention, dropout_p):\n",
    "        super().__init__()\n",
    "\n",
    "        self.embedding_dim = embedding_dim \n",
    "        self.output_dim = output_dim \n",
    "        self.encoder_hidden_dim = encoder_hidden_dim\n",
    "        self.decoder_hidden_dim = decoder_hidden_dim\n",
    "        self.dropout_p = dropout_p \n",
    "\n",
    "        self.embedding = nn.Embedding(output_dim, embedding_dim)\n",
    "        self.attention = attention # allowing for custom attention\n",
    "        self.gru = nn.GRU((encoder_hidden_dim * 2) + embedding_dim, \n",
    "                          decoder_hidden_dim)\n",
    "        self.out = nn.Linear((encoder_hidden_dim * 2) + embedding_dim + decoder_hidden_dim,\n",
    "                             output_dim)\n",
    "        self.dropout = nn.Dropout(dropout_p)\n",
    "\n",
    "    def forward(self, input, hidden, encoder_outputs, src_mask=None):\n",
    "        '''\n",
    "        Decode an encoder's output. \n",
    "\n",
    "        B: batch size\n",
    "        S: source sentence length\n",
    "        T: target sentence length\n",
    "        O: output size (target vocab size)\n",
    "        Enc: encoder hidden dim\n",
    "        Dec: decoder hidden dim\n",
    "        Emb: embedding dim\n",
    "\n",
    "        Inputs:\n",
    "          - input: a vector of length B giving the most recent decoded token\n",
    "          - hidden: a (B, Dec) most recent RNN hidden state\n",
    "          - encoder_outputs: (S, B, 2*Enc) sequence of outputs from encoder RNN\n",
    "\n",
    "        Outputs:\n",
    "          - output: logits for next token in the sequence (B, O)\n",
    "          - hidden: a new (B, Dec) RNN hidden state\n",
    "          - attentions: (B, S) attention weights for the current token over the source sentence\n",
    "        '''\n",
    "\n",
    "        # (B) --> (1, B)\n",
    "        input = input.unsqueeze(0)\n",
    "\n",
    "        embedded = self.dropout(self.embedding(input))\n",
    "\n",
    "        attentions = self.attention(hidden, encoder_outputs, src_mask)\n",
    "\n",
    "        # (B, S) --> (B, 1, S)\n",
    "        a = attentions.unsqueeze(1)\n",
    "\n",
    "        # (S, B, 2*Enc) --> (B, S, 2*Enc)\n",
    "        encoder_outputs = encoder_outputs.transpose(0, 1)\n",
    "\n",
    "        # weighted encoder representation\n",
    "        # (B, 1, S) @ (B, S, 2*Enc) = (B, 1, 2*Enc)\n",
    "        weighted = torch.bmm(a, encoder_outputs)\n",
    "\n",
    "        # (B, 1, 2*Enc) --> (1, B, 2*Enc)\n",
    "        weighted = weighted.transpose(0, 1)\n",
    "\n",
    "        # concat (1, B, Emb) and (1, B, 2*Enc)\n",
    "        # results in (1, B, Emb + 2*Enc)\n",
    "        rnn_input = torch.cat((embedded, weighted), dim=2)\n",
    "\n",
    "        output, hidden = self.gru(rnn_input, hidden.unsqueeze(0))\n",
    "\n",
    "        assert (output == hidden).all()\n",
    "\n",
    "        # get rid of empty leading dimensions\n",
    "        embedded = embedded.squeeze(0)\n",
    "        output = output.squeeze(0)\n",
    "        weighted = weighted.squeeze(0)\n",
    "\n",
    "        # concatenate the pieces above\n",
    "        # (B, Dec), (B, 2*Enc), and (B, Emb)\n",
    "        # result is (B, Dec + 2*Enc + Emb)\n",
    "        linear_input = torch.cat((output, weighted, embedded), dim=1)\n",
    "\n",
    "        # (B, Dec + 2*Enc + Emb) --> (B, O)\n",
    "        output = self.out(linear_input)\n",
    "\n",
    "        return output, hidden.squeeze(0), attentions"
   ]
  },
  {
   "cell_type": "code",
   "execution_count": 43,
   "metadata": {},
   "outputs": [],
   "source": [
    "class BahdanauSeq2Seq(nn.Module):\n",
    "    def __init__(self, encoder, decoder, device):\n",
    "        super().__init__()\n",
    "\n",
    "        self.encoder = encoder.to(device)\n",
    "        self.decoder = decoder.to(device)\n",
    "        self.device = device\n",
    "        self.tgt_vocab_size = decoder.output_dim\n",
    "\n",
    "    def forward(self, src, tgt, src_mask=None, teacher_forcing_ratio=0.5, return_attentions=False):\n",
    "\n",
    "        tgt_length, batch_size = tgt.shape\n",
    "\n",
    "        # store decoder outputs\n",
    "        outputs = torch.zeros(tgt_length, batch_size, self.tgt_vocab_size).to(self.device)\n",
    "        # attentions = torch.zeros(tgt_length, batch_size, )\n",
    "\n",
    "        encoder_outputs, hidden = self.encoder(src)\n",
    "        hidden = hidden.squeeze(1) # B, 1, Enc --> B, Enc (if necessary)\n",
    "\n",
    "        # start with <bos> as the decoder input\n",
    "        decoder_input = tgt[0, :]\n",
    "        attentions = []\n",
    "\n",
    "        for t in range(1, tgt_length):\n",
    "            decoder_output, hidden, attention = self.decoder(decoder_input, hidden, encoder_outputs, src_mask)\n",
    "            outputs[t] = decoder_output\n",
    "            teacher_force = random.random() < teacher_forcing_ratio\n",
    "            top_token = decoder_output.max(1)[1]\n",
    "            decoder_input = (tgt[t] if teacher_force else top_token)\n",
    "            attentions.append(attention.unsqueeze(-1))\n",
    "\n",
    "        if return_attentions:\n",
    "            return outputs, torch.cat(attentions, dim=-1)\n",
    "        else:\n",
    "            return outputs"
   ]
  },
  {
   "attachments": {},
   "cell_type": "markdown",
   "metadata": {},
   "source": [
    "### Train Bahdanau Seq2Seq Model"
   ]
  },
  {
   "cell_type": "code",
   "execution_count": 44,
   "metadata": {},
   "outputs": [],
   "source": [
    "class MultipleOptimizer(object):\n",
    "    \n",
    "    def __init__(self, *op):\n",
    "        self.optimizers = op\n",
    "    \n",
    "    def zero_grad(self):\n",
    "        for op in self.optimizers:\n",
    "            op.zero_grad()\n",
    "\n",
    "    def step(self):\n",
    "        for op in self.optimizers:\n",
    "            op.step()\n"
   ]
  },
  {
   "cell_type": "code",
   "execution_count": 45,
   "metadata": {},
   "outputs": [],
   "source": [
    "def train(model, iterator, optimizer, loss_fn, device, clip=None):\n",
    "    model.train()\n",
    "    if model.device != device:\n",
    "        model = model.to(device)\n",
    "        \n",
    "    epoch_loss = 0\n",
    "    with tqdm(total=len(iterator), leave=False) as t:\n",
    "        for i, (src, tgt) in enumerate(iterator):\n",
    "            src_mask = (src != PAD_IDX).to(device)\n",
    "            src = src.to(device)\n",
    "            tgt = tgt.to(device)\n",
    "            \n",
    "            optimizer.zero_grad()\n",
    "            \n",
    "            output = model(src, tgt, src_mask)\n",
    "            \n",
    "            loss = loss_fn(output[1:].view(-1, output.shape[2]),\n",
    "                           tgt[1:].view(-1))\n",
    "            \n",
    "            loss.backward()\n",
    "            \n",
    "            if clip is not None:\n",
    "                nn.utils.clip_grad_norm_(model.parameters(), clip)\n",
    "            \n",
    "            optimizer.step()\n",
    "            epoch_loss += loss.item()\n",
    "            \n",
    "            avg_loss = epoch_loss / (i+1)\n",
    "            t.set_postfix(loss='{:05.3f}'.format(avg_loss),\n",
    "                          ppl='{:05.3f}'.format(np.exp(avg_loss)))\n",
    "            t.update()\n",
    "            \n",
    "    return epoch_loss / len(iterator)\n",
    "\n"
   ]
  },
  {
   "cell_type": "code",
   "execution_count": 46,
   "metadata": {},
   "outputs": [],
   "source": [
    "def evaluate(model, iterator, loss_fn, device):\n",
    "    model.eval()\n",
    "    if model.device != device:\n",
    "        model = model.to(device)\n",
    "        \n",
    "    epoch_loss = 0\n",
    "    with torch.no_grad():\n",
    "        with tqdm(total=len(iterator), leave=False) as t:\n",
    "            for i, (src, tgt) in enumerate(iterator):\n",
    "                src_mask = (src != PAD_IDX).to(device)\n",
    "                src = src.to(device)\n",
    "                tgt = tgt.to(device)\n",
    "                \n",
    "                output = model(src, tgt, src_mask, teacher_forcing_ratio=0)\n",
    "                loss = loss_fn(output[1:].view(-1, output.shape[2]),\n",
    "                               tgt[1:].view(-1))\n",
    "                \n",
    "                epoch_loss += loss.item()\n",
    "                \n",
    "                avg_loss = epoch_loss / (i+1)\n",
    "                t.set_postfix(loss='{:05.3f}'.format(avg_loss),\n",
    "                              ppl='{:05.3f}'.format(np.exp(avg_loss)))\n",
    "                t.update()\n",
    "    \n",
    "    return epoch_loss / len(iterator)"
   ]
  },
  {
   "cell_type": "code",
   "execution_count": 47,
   "metadata": {},
   "outputs": [],
   "source": [
    "enc = BahdanauEncoder(input_dim=len(en_vocab),\n",
    "                      embedding_dim=ENCODER_EMBEDDING_DIM, \n",
    "                      encoder_hidden_dim=ENCODER_HIDDEN_SIZE, \n",
    "                      decoder_hidden_dim=DECODER_HIDDEN_SIZE, \n",
    "                      dropout_p=0.15)"
   ]
  },
  {
   "cell_type": "code",
   "execution_count": 48,
   "metadata": {},
   "outputs": [],
   "source": [
    "attn = BahdanauAttentionQKV(DECODER_HIDDEN_SIZE)"
   ]
  },
  {
   "cell_type": "code",
   "execution_count": 49,
   "metadata": {},
   "outputs": [],
   "source": [
    "dec = BahdanauDecoder(output_dim=len(fr_vocab), \n",
    "                      embedding_dim=DECODER_EMBEDDING_DIM,\n",
    "                      encoder_hidden_dim=ENCODER_HIDDEN_SIZE, \n",
    "                      decoder_hidden_dim=DECODER_HIDDEN_SIZE,\n",
    "                      attention=attn,\n",
    "                      dropout_p=0.15)"
   ]
  },
  {
   "cell_type": "code",
   "execution_count": 50,
   "metadata": {},
   "outputs": [],
   "source": [
    "seq2seq = BahdanauSeq2Seq(enc, dec, device)"
   ]
  },
  {
   "cell_type": "code",
   "execution_count": 51,
   "metadata": {},
   "outputs": [],
   "source": [
    "def count_params(model, return_int=False):\n",
    "    params = sum([torch.prod(torch.tensor(x.shape)).item() for x in model.parameters() if x.requires_grad])\n",
    "    if return_int:\n",
    "        return params\n",
    "    else:\n",
    "        print(\"There are {:,} trainable parameters in this model.\".format(params))"
   ]
  },
  {
   "cell_type": "code",
   "execution_count": 52,
   "metadata": {},
   "outputs": [
    {
     "name": "stdout",
     "output_type": "stream",
     "text": [
      "There are 32,361,414 trainable parameters in this model.\n"
     ]
    }
   ],
   "source": [
    "count_params(seq2seq)"
   ]
  },
  {
   "cell_type": "code",
   "execution_count": 53,
   "metadata": {},
   "outputs": [],
   "source": [
    "enc_optim = torch.optim.AdamW(seq2seq.encoder.parameters(), lr=1e-4)\n",
    "dec_optim = torch.optim.AdamW(seq2seq.decoder.parameters(), lr=1e-4)\n",
    "optims = MultipleOptimizer(enc_optim, dec_optim)\n",
    "loss_fn = nn.CrossEntropyLoss(ignore_index=PAD_IDX)"
   ]
  },
  {
   "cell_type": "code",
   "execution_count": 54,
   "metadata": {},
   "outputs": [],
   "source": [
    "reTrain = False\n",
    "loadPreTrainedModel = not reTrain"
   ]
  },
  {
   "cell_type": "code",
   "execution_count": 55,
   "metadata": {},
   "outputs": [],
   "source": [
    "N_EPOCHS = 20\n",
    "CLIP = 10 # clipping value, or None to prevent gradient clipping\n",
    "EARLY_STOPPING_EPOCHS = 2\n",
    "\n",
    "if not os.path.exists(SAVE_DIR):\n",
    "    print(f\"Creating directory {SAVE_DIR}\")\n",
    "    os.mkdir(SAVE_DIR)\n",
    "\n",
    "modelFileName = 'bahdanau_en_fr_BS_' + str(BATCH_SIZE) + '.pt'  \n",
    "model_path = os.path.join(SAVE_DIR, modelFileName)\n",
    "bahdanau_metrics = {}\n",
    "best_valid_loss = float(\"inf\")\n",
    "early_stopping_count = 0\n",
    "if reTrain:\n",
    "\n",
    "    for epoch in tqdm(range(N_EPOCHS), leave=False, desc=\"Epoch\"):\n",
    "        train_loss = train(seq2seq, train_iter, optims, loss_fn, device, clip=CLIP)\n",
    "        valid_loss = evaluate(seq2seq, valid_iter, loss_fn, device)\n",
    "        \n",
    "        if valid_loss < best_valid_loss:\n",
    "            tqdm.write(f\"Checkpointing at epoch {epoch + 1}\")\n",
    "            best_valid_loss = valid_loss\n",
    "            torch.save(seq2seq.state_dict(), model_path)\n",
    "            early_stopping_count = 0\n",
    "        else:\n",
    "            early_stopping_count += 1\n",
    "        \n",
    "        bahdanau_metrics[epoch+1] = dict(\n",
    "            train_loss = train_loss,\n",
    "            train_ppl = np.exp(train_loss),\n",
    "            valid_loss = valid_loss,\n",
    "            valid_ppl = np.exp(valid_loss)\n",
    "        )\n",
    "        \n",
    "        if early_stopping_count == EARLY_STOPPING_EPOCHS:\n",
    "            tqdm.write(f\"Early stopping triggered in epoch {epoch + 1}\")\n",
    "            break\n",
    "\n",
    "# BATCH_SIZE = 512\n",
    "# 48m, 50.4s\n",
    "\n",
    "# BATCH_SIZE = 256\n",
    "# 50m, 59.6s\n",
    "\n",
    "# BATCH_SIZE = 16\n",
    "# 112m 56.8s ..."
   ]
  },
  {
   "cell_type": "code",
   "execution_count": 56,
   "metadata": {},
   "outputs": [],
   "source": [
    "if loadPreTrainedModel:\n",
    "    seq2seq.load_state_dict(torch.load(model_path, map_location=device))"
   ]
  },
  {
   "cell_type": "code",
   "execution_count": 57,
   "metadata": {},
   "outputs": [],
   "source": [
    "if reTrain:\n",
    "    \n",
    "    bahdanau_metrics_df = pd.DataFrame(bahdanau_metrics).T\n",
    "\n",
    "    plt.figure(figsize=(10,6))\n",
    "    plt.plot(bahdanau_metrics_df['train_loss'], label=\"Training\", color='gray', linestyle='solid', lw=2.5)\n",
    "    plt.plot(bahdanau_metrics_df['valid_loss'], label=\"Validation\", color='gray', linestyle='dashed', lw=2.5)\n",
    "    plt.legend()\n",
    "    plt.title(\"Bahdanau Attention: Loss\")\n",
    "    plt.xlabel(\"Epoch\")\n",
    "    plt.ylabel(\"Loss\")\n",
    "    plt.show()\n",
    "\n",
    "    plt.figure(figsize=(10,6))\n",
    "    plt.plot(bahdanau_metrics_df['train_ppl'], label=\"Training\", color='gray', linestyle='solid', lw=2.5)\n",
    "    plt.plot(bahdanau_metrics_df['valid_ppl'], label=\"Validation\", color='gray', linestyle='dashed', lw=2.5)\n",
    "    plt.legend()\n",
    "    plt.title(\"Bahdanau Attention: Perplexity\")\n",
    "    plt.xlabel(\"Epoch\")\n",
    "    plt.ylabel(\"Perplexity\")\n",
    "    plt.show()"
   ]
  },
  {
   "cell_type": "code",
   "execution_count": 59,
   "metadata": {},
   "outputs": [],
   "source": [
    "def predict_text(model, text, device=device, src_vocab=en_vocab, src_tokenizer=en_tokenizer, tgt_vocab=fr_vocab):\n",
    "    model.eval()\n",
    "    with torch.no_grad():\n",
    "        input_ids = [src_vocab[token] for token in src_tokenizer(text)]\n",
    "        input_ids = [BOS_IDX] + input_ids + [EOS_IDX]\n",
    "        input_tensor = torch.tensor(input_ids).to(device).unsqueeze(1) # add fake batch dim\n",
    "        max_len = 2*len(input_ids)\n",
    "        encoder_outputs, hidden = model.encoder(input_tensor)\n",
    "        \n",
    "        output = torch.tensor([BOS_IDX]).to(device)\n",
    "        \n",
    "        decoder_outputs = torch.zeros(max_len, 1, len(tgt_vocab)).to(device)\n",
    "        \n",
    "        decoded_words = []\n",
    "        decoder_attentions = torch.zeros(max_len, len(input_ids))\n",
    "        for t in range(0, max_len):\n",
    "            output, hidden, attn = model.decoder(output, hidden, encoder_outputs)\n",
    "            decoder_attentions[t] = attn.data\n",
    "            decoder_outputs[t] = output\n",
    "            output = output.argmax(1)\n",
    "            \n",
    "            if output.item() == EOS_IDX:\n",
    "                decoded_words.append('<eos>')\n",
    "                break\n",
    "            else:\n",
    "                decoded_words.append(tgt_vocab.lookup_token(output.item()))\n",
    "        \n",
    "        output_sentence = ' '.join(decoded_words)\n",
    "        return output_sentence, decoder_attentions[:(t+1)]"
   ]
  },
  {
   "cell_type": "code",
   "execution_count": 60,
   "metadata": {},
   "outputs": [],
   "source": [
    "def show_attention(input_sentence, output_sentence, attentions, figsize=(8,6)):\n",
    "    fig = plt.figure(figsize=figsize)\n",
    "    ax = fig.add_subplot(111)\n",
    "    cax = ax.matshow(attentions.numpy(), cmap='gray')\n",
    "    fig.colorbar(cax)\n",
    "    \n",
    "    src = ['', '<bos>'] + input_sentence.split(' ') + ['<eos>']\n",
    "    tgt = [''] + output_sentence.split(' ')\n",
    "    ax.set_xticklabels(src, rotation=90)\n",
    "    ax.set_yticklabels(tgt)\n",
    "    \n",
    "    ax.xaxis.set_major_locator(ticker.MultipleLocator(1))\n",
    "    ax.yaxis.set_major_locator(ticker.MultipleLocator(1))\n",
    "    \n",
    "    plt.show()"
   ]
  },
  {
   "cell_type": "code",
   "execution_count": 61,
   "metadata": {},
   "outputs": [],
   "source": [
    "def predict_and_show_attention(sentence, model, device):\n",
    "    result, attentions = predict_text(model, sentence, device)\n",
    "    \n",
    "    print(\"Input  >>>\", sentence)\n",
    "    print(\"Output >>>\", result)\n",
    "    \n",
    "    show_attention(sentence, result, attentions)"
   ]
  },
  {
   "cell_type": "code",
   "execution_count": 62,
   "metadata": {},
   "outputs": [
    {
     "name": "stdout",
     "output_type": "stream",
     "text": [
      "Input  >>> i am going to the store\n",
      "Output >>> je vais le magasin magasin . <eos>\n"
     ]
    },
    {
     "name": "stderr",
     "output_type": "stream",
     "text": [
      "/tmp/ipykernel_8332/245615704.py:9: UserWarning: FixedFormatter should only be used together with FixedLocator\n",
      "  ax.set_xticklabels(src, rotation=90)\n",
      "/tmp/ipykernel_8332/245615704.py:10: UserWarning: FixedFormatter should only be used together with FixedLocator\n",
      "  ax.set_yticklabels(tgt)\n"
     ]
    },
    {
     "data": {
      "image/png": "[encoded data removed]",
      "text/plain": [
       "<Figure size 800x600 with 2 Axes>"
      ]
     },
     "metadata": {},
     "output_type": "display_data"
    }
   ],
   "source": [
    "predict_and_show_attention(\"i am going to the store\", seq2seq, device)"
   ]
  },
  {
   "cell_type": "code",
   "execution_count": 63,
   "metadata": {},
   "outputs": [
    {
     "name": "stdout",
     "output_type": "stream",
     "text": [
      "Input  >>> how long will you be here ?\n",
      "Output >>> combien de temps tu tu ici ? <eos>\n"
     ]
    },
    {
     "name": "stderr",
     "output_type": "stream",
     "text": [
      "/tmp/ipykernel_8332/245615704.py:9: UserWarning: FixedFormatter should only be used together with FixedLocator\n",
      "  ax.set_xticklabels(src, rotation=90)\n",
      "/tmp/ipykernel_8332/245615704.py:10: UserWarning: FixedFormatter should only be used together with FixedLocator\n",
      "  ax.set_yticklabels(tgt)\n"
     ]
    },
    {
     "data": {
      "image/png": "[encoded data removed]",
      "text/plain": [
       "<Figure size 800x600 with 2 Axes>"
      ]
     },
     "metadata": {},
     "output_type": "display_data"
    }
   ],
   "source": [
    "predict_and_show_attention(\"how long will you be here ?\", seq2seq, device)"
   ]
  },
  {
   "cell_type": "code",
   "execution_count": 64,
   "metadata": {},
   "outputs": [
    {
     "name": "stdout",
     "output_type": "stream",
     "text": [
      "Input  >>> can we please go to the library ?\n",
      "Output >>> pouvons nous aller aller rendre la bibliotheque ? <eos>\n"
     ]
    },
    {
     "name": "stderr",
     "output_type": "stream",
     "text": [
      "/tmp/ipykernel_8332/245615704.py:9: UserWarning: FixedFormatter should only be used together with FixedLocator\n",
      "  ax.set_xticklabels(src, rotation=90)\n",
      "/tmp/ipykernel_8332/245615704.py:10: UserWarning: FixedFormatter should only be used together with FixedLocator\n",
      "  ax.set_yticklabels(tgt)\n"
     ]
    },
    {
     "data": {
      "image/png": "[encoded data removed]",
      "text/plain": [
       "<Figure size 800x600 with 2 Axes>"
      ]
     },
     "metadata": {},
     "output_type": "display_data"
    }
   ],
   "source": [
    "predict_and_show_attention(\"can we please go to the library ?\", seq2seq, device)"
   ]
  },
  {
   "cell_type": "code",
   "execution_count": 65,
   "metadata": {},
   "outputs": [
    {
     "name": "stdout",
     "output_type": "stream",
     "text": [
      "Input  >>> her family moved away last year .\n",
      "Output >>> sa famille est l annee derniere . <eos>\n"
     ]
    },
    {
     "name": "stderr",
     "output_type": "stream",
     "text": [
      "/tmp/ipykernel_8332/245615704.py:9: UserWarning: FixedFormatter should only be used together with FixedLocator\n",
      "  ax.set_xticklabels(src, rotation=90)\n",
      "/tmp/ipykernel_8332/245615704.py:10: UserWarning: FixedFormatter should only be used together with FixedLocator\n",
      "  ax.set_yticklabels(tgt)\n"
     ]
    },
    {
     "data": {
      "image/png": "[encoded data removed]",
      "text/plain": [
       "<Figure size 800x600 with 2 Axes>"
      ]
     },
     "metadata": {},
     "output_type": "display_data"
    }
   ],
   "source": [
    "if not FILTER_TO_BASIC_PREFIXES:\n",
    "  predict_and_show_attention(\"her family moved away last year .\", seq2seq, device)"
   ]
  },
  {
   "cell_type": "code",
   "execution_count": 66,
   "metadata": {},
   "outputs": [
    {
     "name": "stdout",
     "output_type": "stream",
     "text": [
      "Input  >>> two thousand people fit into this hall .\n",
      "Output >>> deux mille personnes ont dans cette cette . . <eos>\n"
     ]
    },
    {
     "name": "stderr",
     "output_type": "stream",
     "text": [
      "/tmp/ipykernel_8332/245615704.py:9: UserWarning: FixedFormatter should only be used together with FixedLocator\n",
      "  ax.set_xticklabels(src, rotation=90)\n",
      "/tmp/ipykernel_8332/245615704.py:10: UserWarning: FixedFormatter should only be used together with FixedLocator\n",
      "  ax.set_yticklabels(tgt)\n"
     ]
    },
    {
     "data": {
      "image/png": "[encoded data removed]",
      "text/plain": [
       "<Figure size 800x600 with 2 Axes>"
      ]
     },
     "metadata": {},
     "output_type": "display_data"
    }
   ],
   "source": [
    "if not FILTER_TO_BASIC_PREFIXES:\n",
    "  predict_and_show_attention(\"two thousand people fit into this hall .\", seq2seq, device)"
   ]
  },
  {
   "cell_type": "code",
   "execution_count": 67,
   "metadata": {},
   "outputs": [
    {
     "name": "stdout",
     "output_type": "stream",
     "text": [
      "Input  >>> the poor young man finally became a great artist .\n",
      "Output >>> le pauvre jeune homme devint une grande artiste . <eos>\n"
     ]
    },
    {
     "name": "stderr",
     "output_type": "stream",
     "text": [
      "/tmp/ipykernel_8332/245615704.py:9: UserWarning: FixedFormatter should only be used together with FixedLocator\n",
      "  ax.set_xticklabels(src, rotation=90)\n",
      "/tmp/ipykernel_8332/245615704.py:10: UserWarning: FixedFormatter should only be used together with FixedLocator\n",
      "  ax.set_yticklabels(tgt)\n"
     ]
    },
    {
     "data": {
      "image/png": "[encoded data removed]",
      "text/plain": [
       "<Figure size 800x600 with 2 Axes>"
      ]
     },
     "metadata": {},
     "output_type": "display_data"
    }
   ],
   "source": [
    "if not FILTER_TO_BASIC_PREFIXES:\n",
    "  predict_and_show_attention(\"the poor young man finally became a great artist .\", seq2seq, device)"
   ]
  },
  {
   "cell_type": "code",
   "execution_count": 58,
   "metadata": {},
   "outputs": [
    {
     "name": "stdout",
     "output_type": "stream",
     "text": [
      "# Run Date: Tuesday, June 27, 2023\n",
      "# Run Time: 00:00:28\n"
     ]
    }
   ],
   "source": [
    "endTime = time.time()\n",
    "\n",
    "elapsedTime = time.strftime(\"%H:%M:%S\", time.gmtime(endTime - startTime))\n",
    "\n",
    "print(todaysDate.strftime('# Run Date: %A, %B %d, %Y'))\n",
    "print(f\"# Run Time: {elapsedTime}\")\n"
   ]
  }
 ],
 "metadata": {
  "kernelspec": {
   "display_name": "Python 3",
   "language": "python",
   "name": "python3"
  },
  "language_info": {
   "codemirror_mode": {
    "name": "ipython",
    "version": 3
   },
   "file_extension": ".py",
   "mimetype": "text/x-python",
   "name": "python",
   "nbconvert_exporter": "python",
   "pygments_lexer": "ipython3",
   "version": "3.8.10"
  },
  "orig_nbformat": 4
 },
 "nbformat": 4,
 "nbformat_minor": 2
}
